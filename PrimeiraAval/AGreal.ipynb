{
 "cells": [
  {
   "cell_type": "markdown",
   "metadata": {},
   "source": [
    "## Sumário"
   ]
  },
  {
   "cell_type": "markdown",
   "metadata": {},
   "source": [
    "- [Classe Cromossomo](#Classe-Cromossomo)\n",
    "    - [Histogramas](#Histogramas)\n",
    "- [Classe População](#Classe-População)\n",
    "    - [Print população](#Print-população)        \n",
    "- [Cruzamento](#Cruzamento)\n",
    "    - [Cruzamento Aritmético](#Cruzamento-Aritmético)\n",
    "    - [Cruzamento Aritmético com Corte](#Cruzamento-Aritmético-com-Corte)\n",
    "- [Testes](#Testes)    \n",
    "    \n",
    "    "
   ]
  },
  {
   "cell_type": "code",
   "execution_count": 16,
   "metadata": {
    "collapsed": true
   },
   "outputs": [],
   "source": [
    "pathFileImages = 'C:/Users/claud/Dropbox/RepoGit/Disciplina/Computação Evolucionária/Jupyter/'\n",
    "\n",
    "\n",
    "from IPython.display import Image\n",
    "import matplotlib.pyplot as plt\n",
    "import numpy as np\n"
   ]
  },
  {
   "cell_type": "markdown",
   "metadata": {},
   "source": [
    "https://www.programiz.com/python-programming/property"
   ]
  },
  {
   "cell_type": "markdown",
   "metadata": {},
   "source": [
    "# Classe Cromossomo"
   ]
  },
  {
   "cell_type": "code",
   "execution_count": 15,
   "metadata": {
    "collapsed": true
   },
   "outputs": [],
   "source": [
    "class Cromossomo(object):\n",
    "    def __init__(self,tamCromossomo=None):\n",
    "        self._fitness = None\n",
    "        if tamCromossomo is None:\n",
    "            self._gene = None\n",
    "        else:\n",
    "            self._gene=np.random.rand(tamCromossomo)\n",
    "\n",
    "    @property\n",
    "    def gene(self):\n",
    "        return self._gene\n",
    "\n",
    "    @gene.setter\n",
    "    def gene(self, valor):\n",
    "        self._gene = valor\n",
    "\n",
    "    @property\n",
    "    def fitness(self):\n",
    "        return self._fitness\n",
    "\n",
    "    @fitness.setter\n",
    "    def fitness(self, valor):\n",
    "        self._fitness = valor\n",
    "\n",
    "    def mutacaoGauss(self,desvpad,probMut):\n",
    "        for locus in xrange(self.gene.size):\n",
    "            if np.random.random() < probMut:\n",
    "                aleloMutado=np.random.normal(self.gene[locus],desvpad)\n",
    "                if aleloMutado < 0: aleloMutado=0\n",
    "                elif aleloMutado > 1: aleloMutado=1\n",
    "                self.gene[locus]=aleloMutado\n",
    "\n",
    "    def __eq__(self, other):\n",
    "        return (self.fitness == other.fitness)\n",
    "\n",
    "    def __lt__(self, other):\n",
    "        return (self.fitness < other.fitness)\n",
    "\n",
    "    def __gt__(self, other):\n",
    "        return (self.fitness > other.fitness)\n",
    "\n",
    "    def __str__(self):\n",
    "        return \"fit:\"+str(self.fitness)+\" \"+\"\".join([\"{0:.3f} \".format(gene) for gene in self.gene])\n",
    "\n"
   ]
  },
  {
   "cell_type": "markdown",
   "metadata": {},
   "source": [
    "# Classe População"
   ]
  },
  {
   "cell_type": "code",
   "execution_count": 17,
   "metadata": {
    "collapsed": true
   },
   "outputs": [],
   "source": [
    "class Populacao(list):\n",
    "    def __init__(self, tamPop=None,tamCromossomo=None):\n",
    "        listapop=[]\n",
    "        if tamPop is not None:\n",
    "            for i in range(tamPop):\n",
    "                listapop.append(Cromossomo(tamCromossomo))\n",
    "        super(Populacao, self).__init__(listapop)"
   ]
  },
  {
   "cell_type": "markdown",
   "metadata": {},
   "source": [
    "## Print população"
   ]
  },
  {
   "cell_type": "code",
   "execution_count": 75,
   "metadata": {
    "collapsed": false
   },
   "outputs": [
    {
     "name": "stdout",
     "output_type": "stream",
     "text": [
      "pop inicial\n",
      "fit:None 0.241 0.700 0.047 0.203 0.066 0.011 0.061 0.569 0.140 0.434 \n",
      "fit:None 0.741 0.934 0.542 0.529 0.323 0.256 0.670 0.287 0.838 0.443 \n",
      "fit:None 0.360 0.341 0.590 0.082 0.213 0.799 0.058 0.396 0.740 0.774 \n",
      "fit:None 0.586 0.210 0.669 0.403 0.106 0.181 0.240 0.764 0.014 0.787 \n",
      "fit:None 0.663 0.788 0.609 0.627 0.523 0.297 0.063 0.500 0.514 0.419 \n",
      "fit:None 0.097 0.128 0.423 0.848 0.879 0.204 0.256 0.010 0.465 0.897 \n",
      "fit:None 0.775 0.602 0.708 0.859 0.773 0.504 0.445 0.676 0.707 0.764 \n",
      "fit:None 0.017 0.144 0.227 0.588 0.857 0.977 0.360 0.205 0.384 0.007 \n",
      "fit:None 0.837 0.585 0.344 0.250 0.862 0.676 0.059 0.726 0.713 0.894 \n",
      "fit:None 0.557 0.445 0.892 0.213 0.460 0.544 0.619 0.178 0.091 0.415 \n",
      "fit:None 0.555 0.152 0.478 0.472 0.869 0.219 0.093 0.857 0.949 0.949 \n",
      "fit:None 0.840 0.495 0.652 0.341 0.502 0.477 0.308 0.157 0.146 0.589 \n",
      "fit:None 0.604 0.350 0.071 0.277 0.889 0.553 0.459 0.582 0.998 0.009 \n",
      "fit:None 0.674 0.778 0.398 0.414 0.913 0.656 0.112 0.098 0.117 0.539 \n",
      "fit:None 0.837 0.900 0.035 0.827 0.378 0.587 0.451 0.696 0.305 0.696 \n"
     ]
    }
   ],
   "source": [
    "pop = Populacao(15,10)\n",
    "print(\"pop inicial\")\n",
    "\n",
    "def printPop( pop ):\n",
    "    for i in pop:\n",
    "        print( i )\n",
    "        \n",
    "printPop( pop )"
   ]
  },
  {
   "cell_type": "markdown",
   "metadata": {},
   "source": [
    "# Cruzamento"
   ]
  },
  {
   "cell_type": "code",
   "execution_count": 28,
   "metadata": {
    "collapsed": false
   },
   "outputs": [],
   "source": [
    "def cruzamento(self, popPais, probCross):\n",
    "    \"\"\"Retorna uma populacao(lista de cromossomos) cruzada\"\"\"\n",
    "    np.random.shuffle(popPais)\n",
    "    popfilhos = Populacao()\n",
    "    if len(popPais) % 2 == 1: popfilhos.append(popPais[-1]) #ja add ultimo se for impar\n",
    "    for i in range(0, len(popPais), 2):\n",
    "        if np.random.random() < probCross:\n",
    "            cromossomo1,cromossomo2=self.crossAritmetico(popPais[i], popPais[i + 1])\n",
    "            popfilhos.append(cromossomo1)\n",
    "            popfilhos.append(cromossomo2)\n",
    "        else:\n",
    "            popfilhos.append(popPais[i])\n",
    "            popfilhos.append(popPais[i + 1])\n",
    "    return popfilhos\n",
    "\n"
   ]
  },
  {
   "cell_type": "markdown",
   "metadata": {},
   "source": [
    "## Cruzamento Aritmético"
   ]
  },
  {
   "cell_type": "code",
   "execution_count": 111,
   "metadata": {
    "collapsed": true
   },
   "outputs": [],
   "source": [
    "def crossAritmetico(self, cromossomo1, cromossomo2):\n",
    "    \"\"\"Realiza crossover aritmetico em todos os genes do cromossomo\"\"\"\n",
    "    beta = np.random.random()\n",
    "    novogene1 = beta * cromossomo1.gene + (1 - beta) * cromossomo2.gene\n",
    "    novogene2 = (1 - beta) * cromossomo1.gene + beta * cromossomo2.gene\n",
    "    novocromo1 = Cromossomo()\n",
    "    novocromo2 = Cromossomo()\n",
    "    novocromo1.gene = novogene1\n",
    "    novocromo2.gene = novogene2\n",
    "    return novocromo1, novocromo2"
   ]
  },
  {
   "cell_type": "markdown",
   "metadata": {},
   "source": [
    "## Cruzamento Aritmético com Corte"
   ]
  },
  {
   "cell_type": "code",
   "execution_count": 113,
   "metadata": {
    "collapsed": true
   },
   "outputs": [],
   "source": [
    "def crossAritmeticoCorte(self, cromossomo1, cromossomo2):\n",
    "    \"\"\"Realiza crossover aritmetico em todos os genes do cromossomo\"\"\"\n",
    "    beta = np.random.random()\n",
    "    corte = np.random.randint( len( cromossomo1.gene ))\n",
    "    \n",
    "    novogene1 = np.concatenate( ( cromossomo1.gene[ : corte ] , beta * cromossomo1.gene[ corte :  ]   + (1 - beta) * cromossomo2.gene[ corte :  ]) )\n",
    "    novogene2 = np.concatenate( ( cromossomo2.gene[ : corte ] , beta * cromossomo2.gene[ corte :  ]   + (1 - beta) * cromossomo1.gene[ corte :  ]) )\n",
    "    novocromo1 = Cromossomo()\n",
    "    novocromo2 = Cromossomo()\n",
    "    novocromo1.gene = novogene1\n",
    "    novocromo2.gene = novogene2\n",
    "    return novocromo1, novocromo2"
   ]
  },
  {
   "cell_type": "markdown",
   "metadata": {},
   "source": [
    "# Testes"
   ]
  },
  {
   "cell_type": "code",
   "execution_count": 110,
   "metadata": {
    "collapsed": false
   },
   "outputs": [
    {
     "name": "stdout",
     "output_type": "stream",
     "text": [
      "Chr1\n",
      "fit:None 0.241 0.700 0.047 0.203 0.066 0.011 0.061 0.569 0.140 0.435 \n",
      "Chr2\n",
      "fit:None 0.741 0.934 0.542 0.529 0.323 0.256 0.670 0.287 0.838 0.443 \n",
      "Corte =  1\n",
      "beta  0.5\n",
      "Filho 1\n",
      "0.241 0.817 0.295 0.366 0.195 0.134 0.366 0.428 0.489 0.439 \n",
      "Filho 2\n",
      "0.741 0.817 0.295 0.366 0.195 0.134 0.366 0.428 0.489 0.439 \n",
      "\n"
     ]
    }
   ],
   "source": [
    "#np.random.shuffle(pop)\n",
    "#popfilhos = Populacao()\n",
    "\n",
    "\n",
    "#print('Pais')\n",
    "#print( len( pop ) )\n",
    "#print( len( pop[ 0 ].gene ) )\n",
    "#printPop( pop )\n",
    "\n",
    "\n",
    "#print('Filhos')\n",
    "#printPop( popfilhos )\n",
    "\n",
    "#for i in range(0,10):\n",
    "#    corte = np.random.randint(len( pop[ 0 ].gene ))\n",
    "#    print( i , ' ', 'Corte = ', corte )\n",
    "\n",
    "print(\"Chr1\")\n",
    "cromossomo1 = pop[ 0 ]\n",
    "print( cromossomo1 )\n",
    "print(\"Chr2\")\n",
    "cromossomo2 = pop[ 1 ]  \n",
    "print( cromossomo2 )\n",
    "#corte = np.random.randint( len( pop[ 0 ].gene ))\n",
    "corte = 1\n",
    "print( 'Corte = ', corte ) \n",
    "\n",
    "#beta = np.random.random()\n",
    "beta = 0.5\n",
    "print('beta ', beta)\n",
    "\n",
    "#print( cromossomo1.gene )\n",
    "#novogene1 = np.concatenate( ( cromossomo1.gene[ : corte ] , cromossomo1.gene[ corte :  ]) )\n",
    "#print( novogene1 )\n",
    "\n",
    "print( \"Filho 1\")\n",
    "novogene1 = np.concatenate( ( cromossomo1.gene[ : corte ] , beta * cromossomo1.gene[ corte :  ]   + (1 - beta) * cromossomo2.gene[ corte :  ]) )\n",
    "print( \"\".join([\"{0:.3f} \".format(gene) for gene in novogene1]) )\n",
    "\n",
    "print( \"Filho 2\")\n",
    "novogene2 = np.concatenate( ( cromossomo2.gene[ : corte ] , beta * cromossomo2.gene[ corte :  ]   + (1 - beta) * cromossomo1.gene[ corte :  ]) )\n",
    "print( \"\".join([\"{0:.3f} \".format(gene) for gene in novogene1]) )\n",
    "\n",
    "\n",
    "\n",
    "for i in range( i , len( pop[ 0 ].gene) ):        \n",
    "    #novogene1[ i ] = beta * cromossomo1.gene[ i ] + (1 - beta) * cromossomo2.gene[ i ]\n",
    "    print()\n",
    "    "
   ]
  }
 ],
 "metadata": {
  "kernelspec": {
   "display_name": "Python 3",
   "language": "python",
   "name": "python3"
  },
  "language_info": {
   "codemirror_mode": {
    "name": "ipython",
    "version": 3
   },
   "file_extension": ".py",
   "mimetype": "text/x-python",
   "name": "python",
   "nbconvert_exporter": "python",
   "pygments_lexer": "ipython3",
   "version": "3.6.0"
  }
 },
 "nbformat": 4,
 "nbformat_minor": 2
}
